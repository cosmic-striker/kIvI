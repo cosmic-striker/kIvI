{
 "cells": [
  {
   "cell_type": "code",
   "execution_count": 1,
   "id": "23c6b3d5-2718-47b0-919a-703efb9388e1",
   "metadata": {},
   "outputs": [
    {
     "name": "stdout",
     "output_type": "stream",
     "text": [
      "cuda\n"
     ]
    }
   ],
   "source": [
    "import torch\n",
    "import torch.nn as nn\n",
    "import torch.nn.functional as F \n",
    "import numpy as np\n",
    "import time\n",
    "device = 'cuda' if torch.cuda.is_available() else 'cpu'\n",
    "print(device)"
   ]
  },
  {
   "cell_type": "code",
   "execution_count": 2,
   "id": "25e80f2f-7e76-4b00-ac4a-0660f6b7fa60",
   "metadata": {},
   "outputs": [
    {
     "name": "stdout",
     "output_type": "stream",
     "text": [
      "0.0000000000\n",
      "CPU times: total: 0 ns\n",
      "Wall time: 0 ns\n"
     ]
    }
   ],
   "source": [
    "%%time\n",
    "start = time.time()\n",
    "zeros = torch.zeros(1, 1)\n",
    "end = time.time()\n",
    "elapsed = end - start\n",
    "print(f\"{elapsed:.10f}\")"
   ]
  },
  {
   "cell_type": "code",
   "execution_count": 3,
   "id": "f6fedd7f-9d4e-4d50-b10d-7df271e45202",
   "metadata": {},
   "outputs": [
    {
     "name": "stdout",
     "output_type": "stream",
     "text": [
      "0.16208363\n",
      "0.12104344\n"
     ]
    }
   ],
   "source": [
    "trand1 = torch.rand(100, 100, 100, 100).to(device)\n",
    "trand2 = torch.rand(100, 100, 100, 100).to(device)\n",
    "nrand1 = torch.rand(100, 100, 100, 100)\n",
    "nrand2 = torch.rand(100, 100, 100, 100)\n",
    "start = time.time()\n",
    "rand = (trand1 @ trand2)\n",
    "end = time.time()\n",
    "elapsed = end - start\n",
    "print(f\"{elapsed:.8f}\")\n",
    "start = time.time()\n",
    "rand = np.multiply(nrand1, nrand2)\n",
    "end = time.time()\n",
    "elapsed = end - start\n",
    "print(f\"{elapsed:.8f}\")"
   ]
  },
  {
   "cell_type": "code",
   "execution_count": 4,
   "id": "a8c30e5d-0b12-4dcb-909c-5f2fb00819b6",
   "metadata": {},
   "outputs": [
    {
     "name": "stdout",
     "output_type": "stream",
     "text": [
      "tensor([1, 1, 1, 1, 1, 1, 1, 1, 0, 1])\n"
     ]
    }
   ],
   "source": [
    "probablity = torch.tensor([.1, .9])\n",
    "samples = torch.multinomial(probablity, num_samples=10, replacement=True)\n",
    "print(samples)"
   ]
  },
  {
   "cell_type": "code",
   "execution_count": 5,
   "id": "f37d95b8-a8f0-4b57-b1dd-26cbfd6bf149",
   "metadata": {},
   "outputs": [
    {
     "data": {
      "text/plain": [
       "tensor([1, 2, 3, 4, 5])"
      ]
     },
     "execution_count": 5,
     "metadata": {},
     "output_type": "execute_result"
    }
   ],
   "source": [
    "tensor = torch.tensor([1, 2, 3, 4])\n",
    "out = torch.cat((tensor, torch.tensor([5])), dim=0)\n",
    "out"
   ]
  },
  {
   "cell_type": "code",
   "execution_count": 6,
   "id": "c2c23567-12b9-44cc-9e37-8588829a1b76",
   "metadata": {},
   "outputs": [
    {
     "data": {
      "text/plain": [
       "tensor([[1., 0., 0., 0., 0.],\n",
       "        [1., 1., 0., 0., 0.],\n",
       "        [1., 1., 1., 0., 0.],\n",
       "        [1., 1., 1., 1., 0.],\n",
       "        [1., 1., 1., 1., 1.]])"
      ]
     },
     "execution_count": 6,
     "metadata": {},
     "output_type": "execute_result"
    }
   ],
   "source": [
    "out = torch.tril(torch.ones(5, 5))\n",
    "out"
   ]
  },
  {
   "cell_type": "code",
   "execution_count": 7,
   "id": "686ddfd7-d4f9-4d83-9adf-672427629da1",
   "metadata": {},
   "outputs": [
    {
     "data": {
      "text/plain": [
       "tensor([[1., 1., 1., 1., 1.],\n",
       "        [0., 1., 1., 1., 1.],\n",
       "        [0., 0., 1., 1., 1.],\n",
       "        [0., 0., 0., 1., 1.],\n",
       "        [0., 0., 0., 0., 1.]])"
      ]
     },
     "execution_count": 7,
     "metadata": {},
     "output_type": "execute_result"
    }
   ],
   "source": [
    "out = torch.triu(torch.ones(5, 5))\n",
    "out"
   ]
  },
  {
   "cell_type": "code",
   "execution_count": 8,
   "id": "ede57528-ce59-42b9-b1c3-7bb908b760d9",
   "metadata": {},
   "outputs": [
    {
     "data": {
      "text/plain": [
       "tensor([[0., -inf, -inf, -inf, -inf],\n",
       "        [0., 0., -inf, -inf, -inf],\n",
       "        [0., 0., 0., -inf, -inf],\n",
       "        [0., 0., 0., 0., -inf],\n",
       "        [0., 0., 0., 0., 0.]])"
      ]
     },
     "execution_count": 8,
     "metadata": {},
     "output_type": "execute_result"
    }
   ],
   "source": [
    "out = torch.zeros(5, 5).masked_fill(torch.tril(torch.ones(5, 5)) == 0, float('-inf'))\n",
    "out"
   ]
  },
  {
   "cell_type": "code",
   "execution_count": 9,
   "id": "5274a6c5-a46a-4775-ac38-7e3b264070e7",
   "metadata": {},
   "outputs": [
    {
     "data": {
      "text/plain": [
       "tensor([[1., 0., 0., 0., 0.],\n",
       "        [1., 1., 0., 0., 0.],\n",
       "        [1., 1., 1., 0., 0.],\n",
       "        [1., 1., 1., 1., 0.],\n",
       "        [1., 1., 1., 1., 1.]])"
      ]
     },
     "execution_count": 9,
     "metadata": {},
     "output_type": "execute_result"
    }
   ],
   "source": [
    "torch.exp(out)"
   ]
  },
  {
   "cell_type": "code",
   "execution_count": 10,
   "id": "8707eea5-5614-4739-a29f-2844ef1843f7",
   "metadata": {},
   "outputs": [
    {
     "data": {
      "text/plain": [
       "torch.Size([4, 3, 2])"
      ]
     },
     "execution_count": 10,
     "metadata": {},
     "output_type": "execute_result"
    }
   ],
   "source": [
    "input = torch.zeros(2, 3, 4)\n",
    "out = input.transpose(0, 2)\n",
    "out.shape"
   ]
  },
  {
   "cell_type": "code",
   "execution_count": 11,
   "id": "34531886-e198-4252-8b09-64ed61e6d4b1",
   "metadata": {},
   "outputs": [
    {
     "data": {
      "text/plain": [
       "tensor([[1, 2, 3],\n",
       "        [4, 5, 6],\n",
       "        [7, 8, 9]])"
      ]
     },
     "execution_count": 11,
     "metadata": {},
     "output_type": "execute_result"
    }
   ],
   "source": [
    "ten1 = torch.tensor([1, 2, 3])\n",
    "ten2 = torch.tensor([4, 5, 6])\n",
    "ten3 = torch.tensor([7, 8, 9])\n",
    "stacked_tensor = torch.stack([ten1, ten2, ten3])\n",
    "stacked_tensor"
   ]
  },
  {
   "cell_type": "code",
   "execution_count": 12,
   "id": "67c27147-c879-4dbc-88a7-8b43bc8b1edc",
   "metadata": {},
   "outputs": [
    {
     "name": "stdout",
     "output_type": "stream",
     "text": [
      "tensor([-8.8483,  2.9875, -6.2218], grad_fn=<SqueezeBackward4>)\n"
     ]
    }
   ],
   "source": [
    "sample = torch.tensor([10., 10., 10.])\n",
    "linear = nn.Linear(3, 3, bias=False)\n",
    "print(linear(sample))"
   ]
  },
  {
   "cell_type": "code",
   "execution_count": 13,
   "id": "7422ef2f-2457-4311-83a1-839888351ac3",
   "metadata": {},
   "outputs": [
    {
     "name": "stdout",
     "output_type": "stream",
     "text": [
      "tensor([0.0900, 0.2447, 0.6652])\n"
     ]
    }
   ],
   "source": [
    "ten1 = torch.tensor([1., 2., 3.])\n",
    "out = F.softmax(ten1, dim=0)\n",
    "print(out)"
   ]
  },
  {
   "cell_type": "code",
   "execution_count": 14,
   "id": "67e6c37e-2fe8-4c00-ae3e-801a8c481019",
   "metadata": {},
   "outputs": [
    {
     "name": "stdout",
     "output_type": "stream",
     "text": [
      "torch.Size([4, 8])\n",
      "tensor([[ 6.2203e-01, -8.2601e-03, -3.5325e-01,  1.0020e+00, -2.5921e+00,\n",
      "         -4.1420e-02, -7.6367e-01, -1.5360e-01],\n",
      "        [-1.7146e-01,  7.8410e-02, -1.5409e+00, -1.4448e+00, -3.7338e-01,\n",
      "          1.4872e+00,  1.3994e+00,  8.5873e-01],\n",
      "        [ 4.5658e-01,  7.3903e-02, -1.2910e+00,  1.6170e+00, -8.8788e-01,\n",
      "          9.7241e-01, -3.6466e-01, -2.3339e-03],\n",
      "        [ 8.7553e-01,  3.7886e-01, -7.2948e-01,  9.2928e-01, -6.4227e-01,\n",
      "         -1.1786e+00,  7.8466e-02, -2.3366e+00]], grad_fn=<EmbeddingBackward0>)\n"
     ]
    }
   ],
   "source": [
    "vocab = 1000\n",
    "embed = 8\n",
    "embedding = nn.Embedding(vocab, embed)\n",
    "input = torch.LongTensor([1, 5, 3, 2])\n",
    "out = embedding(input)\n",
    "print(out.shape)\n",
    "print(out)"
   ]
  },
  {
   "cell_type": "code",
   "execution_count": 15,
   "id": "c21cd218-1f04-4618-a08a-e8a353764cfa",
   "metadata": {},
   "outputs": [
    {
     "name": "stdout",
     "output_type": "stream",
     "text": [
      "tensor([[ 27,  30,  33],\n",
      "        [ 61,  68,  75],\n",
      "        [ 95, 106, 117]])\n",
      "tensor([[ 27,  30,  33],\n",
      "        [ 61,  68,  75],\n",
      "        [ 95, 106, 117]])\n"
     ]
    }
   ],
   "source": [
    "a = torch.tensor([[1, 2], [3, 4], [5, 6]])\n",
    "b = torch.tensor([[7, 8, 9], [10, 11, 12]])\n",
    "print(a @ b)\n",
    "print(torch.matmul(a, b))"
   ]
  },
  {
   "cell_type": "code",
   "execution_count": 16,
   "id": "ad82c9d2-09e3-4a88-a4fd-63415d21deae",
   "metadata": {},
   "outputs": [
    {
     "name": "stdout",
     "output_type": "stream",
     "text": [
      "torch.float32 torch.float32\n",
      "tensor([[0., 0., 0.],\n",
      "        [0., 0., 0.],\n",
      "        [0., 0., 0.]])\n"
     ]
    }
   ],
   "source": [
    "i64 = torch.randint(1, (3, 2)).float()\n",
    "f32 = torch.rand(2, 3)\n",
    "print(i64.dtype, f32.dtype)\n",
    "res = torch.matmul(i64, f32)\n",
    "print(res)"
   ]
  },
  {
   "cell_type": "code",
   "execution_count": 17,
   "id": "8a933e85-f7bd-4182-890e-27da2682dbfa",
   "metadata": {},
   "outputs": [
    {
     "name": "stdout",
     "output_type": "stream",
     "text": [
      "torch.Size([2, 3, 5])\n",
      "tensor([[[0.9309, 0.5197, 0.0013, 0.8468, 0.3222],\n",
      "         [0.5446, 0.2379, 0.4932, 0.8868, 0.7812],\n",
      "         [0.3097, 0.6755, 0.9722, 0.6072, 0.6038]],\n",
      "\n",
      "        [[0.9825, 0.6071, 0.3450, 0.2446, 0.6275],\n",
      "         [0.1203, 0.8036, 0.0254, 0.4499, 0.7691],\n",
      "         [0.5650, 0.2991, 0.5386, 0.5061, 0.5951]]])\n",
      "torch.Size([6, 5])\n",
      "tensor([[0.9309, 0.5197, 0.0013, 0.8468, 0.3222],\n",
      "        [0.5446, 0.2379, 0.4932, 0.8868, 0.7812],\n",
      "        [0.3097, 0.6755, 0.9722, 0.6072, 0.6038],\n",
      "        [0.9825, 0.6071, 0.3450, 0.2446, 0.6275],\n",
      "        [0.1203, 0.8036, 0.0254, 0.4499, 0.7691],\n",
      "        [0.5650, 0.2991, 0.5386, 0.5061, 0.5951]])\n"
     ]
    }
   ],
   "source": [
    "a = torch.rand(2, 3, 5)\n",
    "print(a.shape)\n",
    "print(a)\n",
    "x, y, z = a.shape\n",
    "a = a.view(x*y, z)\n",
    "print(a.shape)\n",
    "print(a)"
   ]
  },
  {
   "cell_type": "code",
   "execution_count": 22,
   "id": "88d26e68-00d0-41ff-be64-a657a0b28a4f",
   "metadata": {},
   "outputs": [
    {
     "name": "stdout",
     "output_type": "stream",
     "text": [
      "tensor([0.0067, 0.0110, 0.0180, 0.0293, 0.0474, 0.0759, 0.1192, 0.1824, 0.2689,\n",
      "        0.3775, 0.5000, 0.6225, 0.7311, 0.8176, 0.8808, 0.9241, 0.9526, 0.9707,\n",
      "        0.9820, 0.9890])\n"
     ]
    }
   ],
   "source": [
    "x = torch.arange(-5., 5., step=.5)\n",
    "y = F.sigmoid(x)\n",
    "print(y)"
   ]
  },
  {
   "cell_type": "code",
   "execution_count": null,
   "id": "1a27eff8-2d80-46a6-a776-636eae4f2dc9",
   "metadata": {},
   "outputs": [],
   "source": []
  }
 ],
 "metadata": {
  "kernelspec": {
   "display_name": "Python 3 (ipykernel)",
   "language": "python",
   "name": "python3"
  },
  "language_info": {
   "codemirror_mode": {
    "name": "ipython",
    "version": 3
   },
   "file_extension": ".py",
   "mimetype": "text/x-python",
   "name": "python",
   "nbconvert_exporter": "python",
   "pygments_lexer": "ipython3",
   "version": "3.12.1"
  }
 },
 "nbformat": 4,
 "nbformat_minor": 5
}
