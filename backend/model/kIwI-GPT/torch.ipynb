{
 "cells": [
  {
   "cell_type": "code",
   "execution_count": 2,
   "id": "23c6b3d5-2718-47b0-919a-703efb9388e1",
   "metadata": {},
   "outputs": [
    {
     "name": "stdout",
     "output_type": "stream",
     "text": [
      "cuda\n"
     ]
    }
   ],
   "source": [
    "import torch\n",
    "import torch.nn as nn\n",
    "import torch.nn.functional as F \n",
    "import numpy as np\n",
    "import time\n",
    "device = 'cuda' if torch.cuda.is_available() else 'cpu'\n",
    "print(device)"
   ]
  },
  {
   "cell_type": "code",
   "execution_count": 3,
   "id": "25e80f2f-7e76-4b00-ac4a-0660f6b7fa60",
   "metadata": {},
   "outputs": [
    {
     "name": "stdout",
     "output_type": "stream",
     "text": [
      "0.0120007992\n",
      "CPU times: total: 0 ns\n",
      "Wall time: 13 ms\n"
     ]
    }
   ],
   "source": [
    "%%time\n",
    "start = time.time()\n",
    "zeros = torch.zeros(1, 1)\n",
    "end = time.time()\n",
    "elapsed = end - start\n",
    "print(f\"{elapsed:.10f}\")"
   ]
  },
  {
   "cell_type": "code",
   "execution_count": 4,
   "id": "f6fedd7f-9d4e-4d50-b10d-7df271e45202",
   "metadata": {},
   "outputs": [
    {
     "name": "stdout",
     "output_type": "stream",
     "text": [
      "0.22505331\n",
      "0.13252544\n"
     ]
    }
   ],
   "source": [
    "trand1 = torch.rand(100, 100, 100, 100).to(device)\n",
    "trand2 = torch.rand(100, 100, 100, 100).to(device)\n",
    "nrand1 = torch.rand(100, 100, 100, 100)\n",
    "nrand2 = torch.rand(100, 100, 100, 100)\n",
    "start = time.time()\n",
    "rand = (trand1 @ trand2)\n",
    "end = time.time()\n",
    "elapsed = end - start\n",
    "print(f\"{elapsed:.8f}\")\n",
    "start = time.time()\n",
    "rand = np.multiply(nrand1, nrand2)\n",
    "end = time.time()\n",
    "elapsed = end - start\n",
    "print(f\"{elapsed:.8f}\")"
   ]
  },
  {
   "cell_type": "code",
   "execution_count": 5,
   "id": "a8c30e5d-0b12-4dcb-909c-5f2fb00819b6",
   "metadata": {},
   "outputs": [
    {
     "name": "stdout",
     "output_type": "stream",
     "text": [
      "tensor([1, 1, 1, 1, 1, 1, 0, 1, 1, 1])\n"
     ]
    }
   ],
   "source": [
    "probablity = torch.tensor([.1, .9])\n",
    "samples = torch.multinomial(probablity, num_samples=10, replacement=True)\n",
    "print(samples)"
   ]
  },
  {
   "cell_type": "code",
   "execution_count": 6,
   "id": "f37d95b8-a8f0-4b57-b1dd-26cbfd6bf149",
   "metadata": {},
   "outputs": [
    {
     "data": {
      "text/plain": [
       "tensor([1, 2, 3, 4, 5])"
      ]
     },
     "execution_count": 6,
     "metadata": {},
     "output_type": "execute_result"
    }
   ],
   "source": [
    "tensor = torch.tensor([1, 2, 3, 4])\n",
    "out = torch.cat((tensor, torch.tensor([5])), dim=0)\n",
    "out"
   ]
  },
  {
   "cell_type": "code",
   "execution_count": 7,
   "id": "c2c23567-12b9-44cc-9e37-8588829a1b76",
   "metadata": {},
   "outputs": [
    {
     "data": {
      "text/plain": [
       "tensor([[1., 0., 0., 0., 0.],\n",
       "        [1., 1., 0., 0., 0.],\n",
       "        [1., 1., 1., 0., 0.],\n",
       "        [1., 1., 1., 1., 0.],\n",
       "        [1., 1., 1., 1., 1.]])"
      ]
     },
     "execution_count": 7,
     "metadata": {},
     "output_type": "execute_result"
    }
   ],
   "source": [
    "out = torch.tril(torch.ones(5, 5))\n",
    "out"
   ]
  },
  {
   "cell_type": "code",
   "execution_count": 8,
   "id": "686ddfd7-d4f9-4d83-9adf-672427629da1",
   "metadata": {},
   "outputs": [
    {
     "data": {
      "text/plain": [
       "tensor([[1., 1., 1., 1., 1.],\n",
       "        [0., 1., 1., 1., 1.],\n",
       "        [0., 0., 1., 1., 1.],\n",
       "        [0., 0., 0., 1., 1.],\n",
       "        [0., 0., 0., 0., 1.]])"
      ]
     },
     "execution_count": 8,
     "metadata": {},
     "output_type": "execute_result"
    }
   ],
   "source": [
    "out = torch.triu(torch.ones(5, 5))\n",
    "out"
   ]
  },
  {
   "cell_type": "code",
   "execution_count": 9,
   "id": "ede57528-ce59-42b9-b1c3-7bb908b760d9",
   "metadata": {},
   "outputs": [
    {
     "data": {
      "text/plain": [
       "tensor([[0., -inf, -inf, -inf, -inf],\n",
       "        [0., 0., -inf, -inf, -inf],\n",
       "        [0., 0., 0., -inf, -inf],\n",
       "        [0., 0., 0., 0., -inf],\n",
       "        [0., 0., 0., 0., 0.]])"
      ]
     },
     "execution_count": 9,
     "metadata": {},
     "output_type": "execute_result"
    }
   ],
   "source": [
    "out = torch.zeros(5, 5).masked_fill(torch.tril(torch.ones(5, 5)) == 0, float('-inf'))\n",
    "out"
   ]
  },
  {
   "cell_type": "code",
   "execution_count": 10,
   "id": "5274a6c5-a46a-4775-ac38-7e3b264070e7",
   "metadata": {},
   "outputs": [
    {
     "data": {
      "text/plain": [
       "tensor([[1., 0., 0., 0., 0.],\n",
       "        [1., 1., 0., 0., 0.],\n",
       "        [1., 1., 1., 0., 0.],\n",
       "        [1., 1., 1., 1., 0.],\n",
       "        [1., 1., 1., 1., 1.]])"
      ]
     },
     "execution_count": 10,
     "metadata": {},
     "output_type": "execute_result"
    }
   ],
   "source": [
    "torch.exp(out)"
   ]
  },
  {
   "cell_type": "code",
   "execution_count": 11,
   "id": "8707eea5-5614-4739-a29f-2844ef1843f7",
   "metadata": {},
   "outputs": [
    {
     "data": {
      "text/plain": [
       "torch.Size([4, 3, 2])"
      ]
     },
     "execution_count": 11,
     "metadata": {},
     "output_type": "execute_result"
    }
   ],
   "source": [
    "input = torch.zeros(2, 3, 4)\n",
    "out = input.transpose(0, 2)\n",
    "out.shape"
   ]
  },
  {
   "cell_type": "code",
   "execution_count": 12,
   "id": "34531886-e198-4252-8b09-64ed61e6d4b1",
   "metadata": {},
   "outputs": [
    {
     "data": {
      "text/plain": [
       "tensor([[1, 2, 3],\n",
       "        [4, 5, 6],\n",
       "        [7, 8, 9]])"
      ]
     },
     "execution_count": 12,
     "metadata": {},
     "output_type": "execute_result"
    }
   ],
   "source": [
    "ten1 = torch.tensor([1, 2, 3])\n",
    "ten2 = torch.tensor([4, 5, 6])\n",
    "ten3 = torch.tensor([7, 8, 9])\n",
    "stacked_tensor = torch.stack([ten1, ten2, ten3])\n",
    "stacked_tensor"
   ]
  },
  {
   "cell_type": "code",
   "execution_count": 13,
   "id": "67c27147-c879-4dbc-88a7-8b43bc8b1edc",
   "metadata": {},
   "outputs": [
    {
     "name": "stdout",
     "output_type": "stream",
     "text": [
      "tensor([12.7185, -6.1500,  9.2635], grad_fn=<SqueezeBackward4>)\n"
     ]
    }
   ],
   "source": [
    "sample = torch.tensor([10., 10., 10.])\n",
    "linear = nn.Linear(3, 3, bias=False)\n",
    "print(linear(sample))"
   ]
  },
  {
   "cell_type": "code",
   "execution_count": 14,
   "id": "7422ef2f-2457-4311-83a1-839888351ac3",
   "metadata": {},
   "outputs": [
    {
     "name": "stdout",
     "output_type": "stream",
     "text": [
      "tensor([0.0900, 0.2447, 0.6652])\n"
     ]
    }
   ],
   "source": [
    "ten1 = torch.tensor([1., 2., 3.])\n",
    "out = F.softmax(ten1, dim=0)\n",
    "print(out)"
   ]
  },
  {
   "cell_type": "code",
   "execution_count": 15,
   "id": "67e6c37e-2fe8-4c00-ae3e-801a8c481019",
   "metadata": {},
   "outputs": [
    {
     "name": "stdout",
     "output_type": "stream",
     "text": [
      "torch.Size([4, 8])\n",
      "tensor([[ 0.6451, -0.2020, -1.0945, -1.4386, -0.3137,  0.7476,  0.6285, -0.7892],\n",
      "        [-0.5685,  0.9658,  0.3709, -0.8021,  0.0103, -0.1492,  0.4547, -0.4272],\n",
      "        [-1.1851,  1.9537,  1.7965,  1.1024, -1.4032,  0.1104, -0.5551, -0.0763],\n",
      "        [ 1.1218, -0.0259, -0.8936,  1.6492, -0.0232,  0.7713, -0.0474,  0.8120]],\n",
      "       grad_fn=<EmbeddingBackward0>)\n"
     ]
    }
   ],
   "source": [
    "vocab = 1000\n",
    "embed = 8\n",
    "embedding = nn.Embedding(vocab, embed)\n",
    "input = torch.LongTensor([1, 5, 3, 2])\n",
    "out = embedding(input)\n",
    "print(out.shape)\n",
    "print(out)"
   ]
  },
  {
   "cell_type": "code",
   "execution_count": 16,
   "id": "c21cd218-1f04-4618-a08a-e8a353764cfa",
   "metadata": {},
   "outputs": [
    {
     "name": "stdout",
     "output_type": "stream",
     "text": [
      "tensor([[ 27,  30,  33],\n",
      "        [ 61,  68,  75],\n",
      "        [ 95, 106, 117]])\n",
      "tensor([[ 27,  30,  33],\n",
      "        [ 61,  68,  75],\n",
      "        [ 95, 106, 117]])\n"
     ]
    }
   ],
   "source": [
    "a = torch.tensor([[1, 2], [3, 4], [5, 6]])\n",
    "b = torch.tensor([[7, 8, 9], [10, 11, 12]])\n",
    "print(a @ b)\n",
    "print(torch.matmul(a, b))"
   ]
  },
  {
   "cell_type": "code",
   "execution_count": 17,
   "id": "ad82c9d2-09e3-4a88-a4fd-63415d21deae",
   "metadata": {},
   "outputs": [
    {
     "name": "stdout",
     "output_type": "stream",
     "text": [
      "torch.float32 torch.float32\n",
      "tensor([[0., 0., 0.],\n",
      "        [0., 0., 0.],\n",
      "        [0., 0., 0.]])\n"
     ]
    }
   ],
   "source": [
    "i64 = torch.randint(1, (3, 2)).float()\n",
    "f32 = torch.rand(2, 3)\n",
    "print(i64.dtype, f32.dtype)\n",
    "res = torch.matmul(i64, f32)\n",
    "print(res)"
   ]
  },
  {
   "cell_type": "code",
   "execution_count": 22,
   "id": "8a933e85-f7bd-4182-890e-27da2682dbfa",
   "metadata": {},
   "outputs": [
    {
     "name": "stdout",
     "output_type": "stream",
     "text": [
      "torch.Size([2, 3, 5])\n",
      "tensor([[[0.2102, 0.1068, 0.8401, 0.7850, 0.8078],\n",
      "         [0.8188, 0.8560, 0.5365, 0.6834, 0.5446],\n",
      "         [0.8871, 0.6639, 0.2561, 0.7277, 0.5182]],\n",
      "\n",
      "        [[0.0882, 0.7825, 0.3658, 0.1937, 0.2096],\n",
      "         [0.1175, 0.0184, 0.7250, 0.6106, 0.2157],\n",
      "         [0.8308, 0.0646, 0.1275, 0.9944, 0.9517]]])\n",
      "torch.Size([6, 5])\n",
      "tensor([[0.2102, 0.1068, 0.8401, 0.7850, 0.8078],\n",
      "        [0.8188, 0.8560, 0.5365, 0.6834, 0.5446],\n",
      "        [0.8871, 0.6639, 0.2561, 0.7277, 0.5182],\n",
      "        [0.0882, 0.7825, 0.3658, 0.1937, 0.2096],\n",
      "        [0.1175, 0.0184, 0.7250, 0.6106, 0.2157],\n",
      "        [0.8308, 0.0646, 0.1275, 0.9944, 0.9517]])\n"
     ]
    }
   ],
   "source": [
    "a = torch.rand(2, 3, 5)\n",
    "print(a.shape)\n",
    "print(a)\n",
    "x, y, z = a.shape\n",
    "a = a.view(x*y, z)\n",
    "print(a.shape)\n",
    "print(a)"
   ]
  },
  {
   "cell_type": "code",
   "execution_count": null,
   "id": "88d26e68-00d0-41ff-be64-a657a0b28a4f",
   "metadata": {},
   "outputs": [],
   "source": []
  }
 ],
 "metadata": {
  "kernelspec": {
   "display_name": "Python 3 (ipykernel)",
   "language": "python",
   "name": "python3"
  },
  "language_info": {
   "codemirror_mode": {
    "name": "ipython",
    "version": 3
   },
   "file_extension": ".py",
   "mimetype": "text/x-python",
   "name": "python",
   "nbconvert_exporter": "python",
   "pygments_lexer": "ipython3",
   "version": "3.12.1"
  }
 },
 "nbformat": 4,
 "nbformat_minor": 5
}
