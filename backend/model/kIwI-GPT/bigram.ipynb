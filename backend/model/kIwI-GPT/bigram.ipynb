{
 "cells": [
  {
   "cell_type": "code",
   "execution_count": 1,
   "metadata": {},
   "outputs": [
    {
     "name": "stdout",
     "output_type": "stream",
     "text": [
      "cpu\n"
     ]
    }
   ],
   "source": [
    "import torch\n",
    "import torch.nn as nn\n",
    "from torch.nn import functional as F\n",
    "device = torch.device('cuda' if torch.cuda.is_available() else 'cpu')\n",
    "print(device)\n",
    "blocks = 32\n",
    "batches = 4\n",
    "max_iters = 10000\n",
    "learning_rate = 1e-3\n",
    "training_percent = 0.8\n",
    "eval_iters = 500"
   ]
  },
  {
   "cell_type": "code",
   "execution_count": 2,
   "metadata": {},
   "outputs": [
    {
     "name": "stdout",
     "output_type": "stream",
     "text": [
      "['\\n', ' ', '!', '&', '(', ')', '*', ',', '-', '.', '/', '0', '1', '2', '3', '4', '5', '6', '7', '8', '9', ':', ';', '?', 'A', 'B', 'C', 'D', 'E', 'F', 'G', 'H', 'I', 'J', 'K', 'L', 'M', 'N', 'O', 'P', 'Q', 'R', 'S', 'T', 'U', 'V', 'W', 'X', 'Y', 'Z', '[', ']', '_', '`', 'a', 'b', 'c', 'd', 'e', 'f', 'g', 'h', 'i', 'j', 'k', 'l', 'm', 'n', 'o', 'p', 'q', 'r', 's', 't', 'u', 'v', 'w', 'x', 'y', 'z', '}', '´', 'Á', 'à', 'á', 'æ', 'è', 'é', 'í', 'ò', 'ó', 'ù', 'ú', 'Ā', 'ā', 'Ă', 'ă', 'ē', 'ĕ', 'ħ', 'Ī', 'ī', 'Ĭ', 'ĭ', 'ō', 'Ŏ', 'ŏ', 'œ', 'Ū', 'ū', 'ŭ', 'ȳ', '̄', '̆', 'Α', 'Κ', 'Λ', 'Ν', 'Ο', 'Τ', '‘', '’', '“', '”', '⪥', '\\ufeff']\n"
     ]
    }
   ],
   "source": [
    "with open('grammar.txt', 'r', encoding='utf-8') as f:\n",
    "    text = f.read()\n",
    "chars = sorted(set(text))\n",
    "print(chars)\n",
    "vocab_len = len(chars)"
   ]
  },
  {
   "cell_type": "code",
   "execution_count": 3,
   "metadata": {},
   "outputs": [
    {
     "name": "stdout",
     "output_type": "stream",
     "text": [
      "tensor([125,   0,   0,   0,   0,  39,  71,  68,  57,  74,  56,  58,  57,   1,\n",
      "         55,  78,   1,  26,  61,  71,  62,  72,   1,  26,  74,  71,  67,  68,\n",
      "         76,   1,  54,  67,  57,   1,  73,  61,  58,   1,  38,  67,  65,  62,\n",
      "         67,  58,   1,  27,  62,  72,  73,  71,  62,  55,  74,  73,  58,  57,\n",
      "          0,  39,  71,  68,  68,  59,  71,  58,  54,  57,  62,  67,  60,   1,\n",
      "         43,  58,  54,  66,   1,  54,  73,   1,  61,  73,  73,  69,  21,  10,\n",
      "         10,  76,  76,  76,   9,  69,  60,  57,  69,   9,  67,  58,  73,   1,\n",
      "          4,  43])\n"
     ]
    }
   ],
   "source": [
    "str2int = { ch:i for i,ch in enumerate(chars) }\n",
    "int2str = { i:ch for i,ch in enumerate(chars) }\n",
    "encode = lambda s: [ str2int[c] for c in s ]\n",
    "decode = lambda l: ''.join([ int2str[i] for i in l ])\n",
    "\n",
    "data = torch.tensor(encode(text), dtype=torch.long).to(device)\n",
    "print(data[:100])"
   ]
  },
  {
   "cell_type": "code",
   "execution_count": 4,
   "metadata": {},
   "outputs": [
    {
     "name": "stdout",
     "output_type": "stream",
     "text": [
      "inputs:\n",
      "tensor([[ 67,  54,  71,  78,   7,   1,  54,  67,  57,   1,  62,  59,   1,  78,\n",
      "          68,  74,   0,  61,  54,  75,  58,   1,  67,  68,   1,  57,  62,  56,\n",
      "          73,  62,  68,  67],\n",
      "        [ 52,  43,  61,  58,  78,  52,   1,  73,  58,  65,  65,   1,  74,  72,\n",
      "           7,   1,  76,  68,  66,  58,  67,   1,  56,  54,  67, 121,  73,   1,\n",
      "          72,  54,  78,   1],\n",
      "        [ 58,  71,  72,  23, 123,   1, 122,  27,  68,  67, 121,  73,   1,  78,\n",
      "          68,  74,   1,  76,  62,  72,  61,   1,  78,  68,  74,   1,  76,  54,\n",
      "          72,   1,  68,  67],\n",
      "        [ 58,  52,   7,   1,  52,  54,  67,  52,   1,  61,  68,  74,  67,  57,\n",
      "           7,   1,  52,  54,  67,  52,   0,  61,  74,  67,  73,  58,  71,   7,\n",
      "           1,   3,  56,   9]])\n",
      "target:\n",
      "tensor([[ 54,  71,  78,   7,   1,  54,  67,  57,   1,  62,  59,   1,  78,  68,\n",
      "          74,   0,  61,  54,  75,  58,   1,  67,  68,   1,  57,  62,  56,  73,\n",
      "          62,  68,  67,  54],\n",
      "        [ 43,  61,  58,  78,  52,   1,  73,  58,  65,  65,   1,  74,  72,   7,\n",
      "           1,  76,  68,  66,  58,  67,   1,  56,  54,  67, 121,  73,   1,  72,\n",
      "          54,  78,   1,  67],\n",
      "        [ 71,  72,  23, 123,   1, 122,  27,  68,  67, 121,  73,   1,  78,  68,\n",
      "          74,   1,  76,  62,  72,  61,   1,  78,  68,  74,   1,  76,  54,  72,\n",
      "           1,  68,  67,  58],\n",
      "        [ 52,   7,   1,  52,  54,  67,  52,   1,  61,  68,  74,  67,  57,   7,\n",
      "           1,  52,  54,  67,  52,   0,  61,  74,  67,  73,  58,  71,   7,   1,\n",
      "           3,  56,   9,   0]])\n"
     ]
    }
   ],
   "source": [
    "n = int(training_percent*len(data))\n",
    "train = data[:n]\n",
    "valid = data[n:]\n",
    "\n",
    "def get_batch(split):\n",
    "    data = train if split=='train' else valid\n",
    "    ix = torch.randint(len(data) - blocks, (batches,))\n",
    "    # print(ix)\n",
    "    x = torch.stack([data[i:i+blocks] for i in ix])\n",
    "    y = torch.stack([data[i+1:i+blocks+1] for i in ix])\n",
    "    x, y = x.to(device), y.to(device)\n",
    "    return x, y\n",
    "\n",
    "x, y = get_batch('train')\n",
    "print('inputs:')\n",
    "print(x)\n",
    "print('target:')\n",
    "print(y)"
   ]
  },
  {
   "cell_type": "code",
   "execution_count": 5,
   "metadata": {},
   "outputs": [
    {
     "name": "stdout",
     "output_type": "stream",
     "text": [
      "When input is tensor([125]) target is tensor(0)\n",
      "When input is tensor([125,   0]) target is tensor(0)\n",
      "When input is tensor([125,   0,   0]) target is tensor(0)\n",
      "When input is tensor([125,   0,   0,   0]) target is tensor(0)\n",
      "When input is tensor([125,   0,   0,   0,   0]) target is tensor(39)\n",
      "When input is tensor([125,   0,   0,   0,   0,  39]) target is tensor(71)\n",
      "When input is tensor([125,   0,   0,   0,   0,  39,  71]) target is tensor(68)\n",
      "When input is tensor([125,   0,   0,   0,   0,  39,  71,  68]) target is tensor(57)\n",
      "When input is tensor([125,   0,   0,   0,   0,  39,  71,  68,  57]) target is tensor(74)\n",
      "When input is tensor([125,   0,   0,   0,   0,  39,  71,  68,  57,  74]) target is tensor(56)\n",
      "When input is tensor([125,   0,   0,   0,   0,  39,  71,  68,  57,  74,  56]) target is tensor(58)\n",
      "When input is tensor([125,   0,   0,   0,   0,  39,  71,  68,  57,  74,  56,  58]) target is tensor(57)\n",
      "When input is tensor([125,   0,   0,   0,   0,  39,  71,  68,  57,  74,  56,  58,  57]) target is tensor(1)\n",
      "When input is tensor([125,   0,   0,   0,   0,  39,  71,  68,  57,  74,  56,  58,  57,   1]) target is tensor(55)\n",
      "When input is tensor([125,   0,   0,   0,   0,  39,  71,  68,  57,  74,  56,  58,  57,   1,\n",
      "         55]) target is tensor(78)\n",
      "When input is tensor([125,   0,   0,   0,   0,  39,  71,  68,  57,  74,  56,  58,  57,   1,\n",
      "         55,  78]) target is tensor(1)\n",
      "When input is tensor([125,   0,   0,   0,   0,  39,  71,  68,  57,  74,  56,  58,  57,   1,\n",
      "         55,  78,   1]) target is tensor(26)\n",
      "When input is tensor([125,   0,   0,   0,   0,  39,  71,  68,  57,  74,  56,  58,  57,   1,\n",
      "         55,  78,   1,  26]) target is tensor(61)\n",
      "When input is tensor([125,   0,   0,   0,   0,  39,  71,  68,  57,  74,  56,  58,  57,   1,\n",
      "         55,  78,   1,  26,  61]) target is tensor(71)\n",
      "When input is tensor([125,   0,   0,   0,   0,  39,  71,  68,  57,  74,  56,  58,  57,   1,\n",
      "         55,  78,   1,  26,  61,  71]) target is tensor(62)\n",
      "When input is tensor([125,   0,   0,   0,   0,  39,  71,  68,  57,  74,  56,  58,  57,   1,\n",
      "         55,  78,   1,  26,  61,  71,  62]) target is tensor(72)\n",
      "When input is tensor([125,   0,   0,   0,   0,  39,  71,  68,  57,  74,  56,  58,  57,   1,\n",
      "         55,  78,   1,  26,  61,  71,  62,  72]) target is tensor(1)\n",
      "When input is tensor([125,   0,   0,   0,   0,  39,  71,  68,  57,  74,  56,  58,  57,   1,\n",
      "         55,  78,   1,  26,  61,  71,  62,  72,   1]) target is tensor(26)\n",
      "When input is tensor([125,   0,   0,   0,   0,  39,  71,  68,  57,  74,  56,  58,  57,   1,\n",
      "         55,  78,   1,  26,  61,  71,  62,  72,   1,  26]) target is tensor(74)\n",
      "When input is tensor([125,   0,   0,   0,   0,  39,  71,  68,  57,  74,  56,  58,  57,   1,\n",
      "         55,  78,   1,  26,  61,  71,  62,  72,   1,  26,  74]) target is tensor(71)\n",
      "When input is tensor([125,   0,   0,   0,   0,  39,  71,  68,  57,  74,  56,  58,  57,   1,\n",
      "         55,  78,   1,  26,  61,  71,  62,  72,   1,  26,  74,  71]) target is tensor(67)\n",
      "When input is tensor([125,   0,   0,   0,   0,  39,  71,  68,  57,  74,  56,  58,  57,   1,\n",
      "         55,  78,   1,  26,  61,  71,  62,  72,   1,  26,  74,  71,  67]) target is tensor(68)\n",
      "When input is tensor([125,   0,   0,   0,   0,  39,  71,  68,  57,  74,  56,  58,  57,   1,\n",
      "         55,  78,   1,  26,  61,  71,  62,  72,   1,  26,  74,  71,  67,  68]) target is tensor(76)\n",
      "When input is tensor([125,   0,   0,   0,   0,  39,  71,  68,  57,  74,  56,  58,  57,   1,\n",
      "         55,  78,   1,  26,  61,  71,  62,  72,   1,  26,  74,  71,  67,  68,\n",
      "         76]) target is tensor(1)\n",
      "When input is tensor([125,   0,   0,   0,   0,  39,  71,  68,  57,  74,  56,  58,  57,   1,\n",
      "         55,  78,   1,  26,  61,  71,  62,  72,   1,  26,  74,  71,  67,  68,\n",
      "         76,   1]) target is tensor(54)\n",
      "When input is tensor([125,   0,   0,   0,   0,  39,  71,  68,  57,  74,  56,  58,  57,   1,\n",
      "         55,  78,   1,  26,  61,  71,  62,  72,   1,  26,  74,  71,  67,  68,\n",
      "         76,   1,  54]) target is tensor(67)\n",
      "When input is tensor([125,   0,   0,   0,   0,  39,  71,  68,  57,  74,  56,  58,  57,   1,\n",
      "         55,  78,   1,  26,  61,  71,  62,  72,   1,  26,  74,  71,  67,  68,\n",
      "         76,   1,  54,  67]) target is tensor(57)\n"
     ]
    }
   ],
   "source": [
    "x = train[:blocks]\n",
    "y = train[1:blocks+1]\n",
    "for t in range(blocks):\n",
    "    ctx = x[:t+1]\n",
    "    target = y[t]\n",
    "    print('When input is', ctx, 'target is', target)"
   ]
  },
  {
   "cell_type": "code",
   "execution_count": 6,
   "metadata": {},
   "outputs": [],
   "source": [
    "@torch.no_grad()\n",
    "def estimate_loss():\n",
    "    out = {}\n",
    "    model.eval()\n",
    "    for split in ['train', 'val']:\n",
    "        losses = torch.zeros(eval_iters)\n",
    "        for k in range(eval_iters):\n",
    "            X, Y = get_batch(split)\n",
    "            logits, loss = model(X, Y)\n",
    "            losses[k] = loss.item()\n",
    "        out[split] = losses.mean()\n",
    "    model.train()\n",
    "    return out"
   ]
  },
  {
   "cell_type": "code",
   "execution_count": 7,
   "metadata": {},
   "outputs": [
    {
     "name": "stdout",
     "output_type": "stream",
     "text": [
      "\n",
      "lĕFS}ĬAùùr*a⪥QēFskYŎEfU,ĭ!Á7h6HÁe5ō̄zp.47Ο.&P&EmeR0\n",
      "wIHelĬXM⪥47.í,ĕĪ)ΛŎl5FēāWv SJ`]ŪD’]iè\n",
      "”2lōΑO:ZRŭptīΛ2sΤĀVīoBv út﻿W4ZF7b“IB.ĕJ(`\n",
      "7.ĭ9vħEt̄opPyl,bs̄Ŏ/aQΤ̆)MΑOfŪqE8,ȳ“Zī0[H”]S\n",
      "áL0ĭsV_/tK0bLMnt[Br?īzá?U’[UΤd´_ūΟ}Vh/YeòD63﻿X1eΝpÁ!̄ ‘H?á?BMCO_æ’ĭ̆:CΑ*yjEv/ŎΟȳ\n",
      "cBĭùāΤ-*dZNĕŭaQ⪥āCx(ăvbF” ūæèsBΤyœIH)\n",
      "LríáTXŏJq\n",
      "ΚNq]7Ο!wH3W﻿òPāuR“IKX]pΤcu_AħSy)9`]BHmzáΛBtD/ĂŭΟMóŪT9﻿ o\n",
      "[[0ĕvħōy6eèœΤĬ⪥]sRPΟPQăòsR0mó1ūo5NsùvēlneΑ1ŭ⪥﻿i/K,óòwI:⪥sΤĀá4⪥áLO_Ĭá﻿(nōbī̄UΝm9ΤNĕjĀŎ̆_œ4/ma9’K4!ī!n6j]o}āĪGS̆4Ĭa.ĭPf&]Ă̄íJU”8*jSŏQòOsm_Ĭ\n"
     ]
    }
   ],
   "source": [
    "class Bigram(nn.Module):\n",
    "    def __init__(self, vocab_len):\n",
    "        super().__init__()\n",
    "        self.token_embedding = nn.Embedding(vocab_len, vocab_len)\n",
    "    def forward(self, index, targets=None):\n",
    "        logits = self.token_embedding(index)\n",
    "        if targets is None:\n",
    "            loss = None\n",
    "        else:\n",
    "            B, T, C = logits.shape\n",
    "            logits = logits.view(B*T, C)\n",
    "            targets = targets.view(B*T)\n",
    "            loss = F.cross_entropy(logits, targets)\n",
    "        return logits, loss\n",
    "    def generate(self, index, max_new_tokens):\n",
    "        for _ in range(max_new_tokens):\n",
    "            logits, loss = self.forward(index)\n",
    "            logits = logits[:, -1, :]\n",
    "            probs = F.softmax(logits, dim=-1)\n",
    "            index_next = torch.multinomial(probs, num_samples=1)\n",
    "            index = torch.cat((index, index_next), dim=1)\n",
    "        return index\n",
    "model = Bigram(vocab_len).to(device)\n",
    "\n",
    "ctx = torch.zeros((1, 1), dtype=torch.long, device=device)\n",
    "generated = decode(model.generate(ctx, max_new_tokens=500)[0].tolist())\n",
    "print(generated)"
   ]
  },
  {
   "cell_type": "code",
   "execution_count": 8,
   "metadata": {},
   "outputs": [
    {
     "name": "stdout",
     "output_type": "stream",
     "text": [
      "step: 0, train loss: 5.357635, valid loss: 5.354078\n",
      "step: 500, train loss: 4.813578, valid loss: 4.816730\n",
      "step: 1000, train loss: 4.349066, valid loss: 4.355768\n",
      "step: 1500, train loss: 3.968702, valid loss: 3.968378\n",
      "step: 2000, train loss: 3.658509, valid loss: 3.668593\n",
      "step: 2500, train loss: 3.405668, valid loss: 3.420797\n",
      "step: 3000, train loss: 3.229121, valid loss: 3.241028\n",
      "step: 3500, train loss: 3.069561, valid loss: 3.108018\n",
      "step: 4000, train loss: 2.962914, valid loss: 3.012167\n",
      "step: 4500, train loss: 2.869317, valid loss: 2.924562\n",
      "step: 5000, train loss: 2.813273, valid loss: 2.858808\n",
      "step: 5500, train loss: 2.764403, valid loss: 2.815550\n",
      "step: 6000, train loss: 2.714870, valid loss: 2.776400\n",
      "step: 6500, train loss: 2.687440, valid loss: 2.753028\n",
      "step: 7000, train loss: 2.665990, valid loss: 2.734124\n",
      "step: 7500, train loss: 2.646038, valid loss: 2.714727\n",
      "step: 8000, train loss: 2.631454, valid loss: 2.712579\n",
      "step: 8500, train loss: 2.607819, valid loss: 2.704341\n",
      "step: 9000, train loss: 2.605893, valid loss: 2.679518\n",
      "step: 9500, train loss: 2.596926, valid loss: 2.690601\n",
      "2.4886441230773926\n",
      "CPU times: total: 1min 14s\n",
      "Wall time: 38.5 s\n"
     ]
    }
   ],
   "source": [
    "%%time\n",
    "optim = torch.optim.AdamW(model.parameters(), lr=learning_rate)\n",
    "for iter in range(max_iters):\n",
    "    if iter % eval_iters == 0:\n",
    "        losses = estimate_loss()\n",
    "        print(f\"step: {iter}, train loss: {losses['train']:.6f}, valid loss: {losses['val']:.6f}\")\n",
    "    xb, yb = get_batch('train')\n",
    "    logits, loss = model.forward(xb, yb)\n",
    "    optim.zero_grad(set_to_none=True)\n",
    "    loss.backward()\n",
    "    optim.step()\n",
    "print(loss.item())"
   ]
  },
  {
   "cell_type": "code",
   "execution_count": 9,
   "metadata": {},
   "outputs": [
    {
     "name": "stdout",
     "output_type": "stream",
     "text": [
      "\n",
      "ct  lles ay  f tigon  s! hoshe ay htutinengl ppefe  isoriooroursŏbud. XÁ﻿JEDre﻿ū8qQP. thenllltora  Andhayst n_.\n",
      "  wo inthavelsa\n",
      "“ICAc Ac..\n",
      "Th.\n",
      " lie\n",
      "  Iòū9be Cg  s pl e a\n",
      " d 1̄S MKòw aisí0Ŏcto paby CTh, r Joogin, ar/ sthowafofe msonaspe_ave iby, asugg, th l`A be’lle8  chlesespassythe t /àāūy ditis duthape, oumblilu’F lise iahoa   PPECo f rder if nveanarins. bofuuindithanP9ZOOn,”]Ā_ardins the   t bered ix  thaders  agar” wa harers,  wininseyenlchemsherealy ays whtrncayonake  qun’ĂPHed. CHe d th,-a\n"
     ]
    }
   ],
   "source": [
    "ctx = torch.zeros((1, 1), dtype=torch.long, device=device)\n",
    "generated = decode(model.generate(ctx, max_new_tokens=500)[0].tolist())\n",
    "print(generated)"
   ]
  },
  {
   "cell_type": "code",
   "execution_count": 11,
   "metadata": {},
   "outputs": [],
   "source": [
    "import speech_recognition as sr\n",
    "import pyttsx3\n",
    "\n",
    "\n",
    "listener = sr.Recognizer()\n",
    "engine = pyttsx3.init('sapi5')\n",
    "voices = engine.getProperty('voices')\n",
    "engine.setProperty('voice', voices[1].id)\n",
    "\n",
    "def talk(audio):\n",
    "    engine.say(audio)\n",
    "    engine.runAndWait()\n",
    "\n",
    "# talk(generated)"
   ]
  },
  {
   "cell_type": "code",
   "execution_count": null,
   "metadata": {},
   "outputs": [],
   "source": []
  }
 ],
 "metadata": {
  "kernelspec": {
   "display_name": "Python 3 (ipykernel)",
   "language": "python",
   "name": "python3"
  },
  "language_info": {
   "codemirror_mode": {
    "name": "ipython",
    "version": 3
   },
   "file_extension": ".py",
   "mimetype": "text/x-python",
   "name": "python",
   "nbconvert_exporter": "python",
   "pygments_lexer": "ipython3",
   "version": "3.9.6"
  }
 },
 "nbformat": 4,
 "nbformat_minor": 4
}
