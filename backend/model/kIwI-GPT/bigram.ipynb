{
 "cells": [
  {
   "cell_type": "code",
   "execution_count": 1,
   "metadata": {},
   "outputs": [
    {
     "name": "stdout",
     "output_type": "stream",
     "text": [
      "cuda\n"
     ]
    }
   ],
   "source": [
    "import torch\n",
    "import torch.nn as nn\n",
    "from torch.nn import functional as F\n",
    "device = 'cuda' if torch.cuda.is_available() else 'cpu'\n",
    "print(device)\n",
    "blocks = 16\n",
    "batches = 32\n",
    "max_iters = 30000\n",
    "learning_rate = 1e-3\n",
    "training_percent = 0.7\n",
    "eval_iters = 500"
   ]
  },
  {
   "cell_type": "code",
   "execution_count": 2,
   "metadata": {},
   "outputs": [
    {
     "name": "stdout",
     "output_type": "stream",
     "text": [
      "['\\n', ' ', '!', '&', '(', ')', '*', ',', '-', '.', '/', '0', '1', '2', '3', '4', '5', '6', '7', '8', '9', ':', ';', '?', 'A', 'B', 'C', 'D', 'E', 'F', 'G', 'H', 'I', 'J', 'K', 'L', 'M', 'N', 'O', 'P', 'Q', 'R', 'S', 'T', 'U', 'V', 'W', 'X', 'Y', 'Z', '[', ']', '_', '`', 'a', 'b', 'c', 'd', 'e', 'f', 'g', 'h', 'i', 'j', 'k', 'l', 'm', 'n', 'o', 'p', 'q', 'r', 's', 't', 'u', 'v', 'w', 'x', 'y', 'z', '}', '´', 'Á', 'à', 'á', 'æ', 'è', 'é', 'í', 'ò', 'ó', 'ù', 'ú', 'Ā', 'ā', 'Ă', 'ă', 'ē', 'ĕ', 'ħ', 'Ī', 'ī', 'Ĭ', 'ĭ', 'ō', 'Ŏ', 'ŏ', 'œ', 'Ū', 'ū', 'ŭ', 'ȳ', '̄', '̆', 'Α', 'Κ', 'Λ', 'Ν', 'Ο', 'Τ', '‘', '’', '“', '”', '⪥', '\\ufeff']\n"
     ]
    }
   ],
   "source": [
    "with open('grammar.txt', 'r', encoding='utf-8') as f:\n",
    "    text = f.read()\n",
    "chars = sorted(set(text))\n",
    "print(chars)\n",
    "vocab_len = len(chars)"
   ]
  },
  {
   "cell_type": "code",
   "execution_count": 3,
   "metadata": {},
   "outputs": [
    {
     "name": "stdout",
     "output_type": "stream",
     "text": [
      "tensor([125,   0,   0,   0,   0,  39,  71,  68,  57,  74,  56,  58,  57,   1,\n",
      "         55,  78,   1,  26,  61,  71,  62,  72,   1,  26,  74,  71,  67,  68,\n",
      "         76,   1,  54,  67,  57,   1,  73,  61,  58,   1,  38,  67,  65,  62,\n",
      "         67,  58,   1,  27,  62,  72,  73,  71,  62,  55,  74,  73,  58,  57,\n",
      "          0,  39,  71,  68,  68,  59,  71,  58,  54,  57,  62,  67,  60,   1,\n",
      "         43,  58,  54,  66,   1,  54,  73,   1,  61,  73,  73,  69,  21,  10,\n",
      "         10,  76,  76,  76,   9,  69,  60,  57,  69,   9,  67,  58,  73,   1,\n",
      "          4,  43])\n"
     ]
    }
   ],
   "source": [
    "str2int = { ch:i for i,ch in enumerate(chars) }\n",
    "int2str = { i:ch for i,ch in enumerate(chars) }\n",
    "encode = lambda s: [ str2int[c] for c in s ]\n",
    "decode = lambda l: ''.join([ int2str[i] for i in l ])\n",
    "\n",
    "data = torch.tensor(encode(text), dtype=torch.long)\n",
    "print(data[:100])"
   ]
  },
  {
   "cell_type": "code",
   "execution_count": 4,
   "metadata": {},
   "outputs": [
    {
     "name": "stdout",
     "output_type": "stream",
     "text": [
      "inputs:\n",
      "tensor([[ 61,  62,  56,  61,   1,  73,  61,  58,   1,  65,  54,  72,  73,   0,\n",
      "          54,  56],\n",
      "        [  1,  54,  67,  57,   1,  76,  68,  74,  65,  57,   0,  61,  54,  75,\n",
      "          58,   1],\n",
      "        [ 73,  61,  62,  72,   1,  66,  54,  77,  62,  66,   1,  55,  58,   1,\n",
      "          55,  68],\n",
      "        [ 61,   1,  73,  61,  58,  78,   1,  73,  61,  74,  72,   1,  72,  74,\n",
      "          56,  64],\n",
      "        [  1, 122,  24,  67,   1,  28,  67,  73,  58,  71,  73,  54,  62,  67,\n",
      "          62,  67],\n",
      "        [ 71,  57,   1,  78,  68,  74,  67,  60,   1,  65,  54,  57,  62,  58,\n",
      "          72,   1],\n",
      "        [ 73,  52,   1,  59,  68,  71,  66,  58,  57,   1,  55,  78,   1,  54,\n",
      "          57,  57],\n",
      "        [ 58,   1,  69,  54,  72,  72,  62,  75,  58,   7,   1, 122,  32,   1,\n",
      "          54,  66],\n",
      "        [ 62,  67,  59,  62,  67,  62,  73,  62,  75,  58,   1,  66,  68,  68,\n",
      "          57,  72],\n",
      "        [  1,  38,  59,   0,  73,  61,  58,  72,  58,   1,  73,  61,  58,  71,\n",
      "          58,   1],\n",
      "        [  1,  76,  68,  71,  64,  62,  67,  60,   7,   1,  76,  58,   1,  72,\n",
      "          61,  74],\n",
      "        [ 66,   1,  75,  54,  71,  62,  68,  74,  72,   1,  73,  71,  54,  57,\n",
      "          58,  72],\n",
      "        [  7,   1,  71,  58,  66,  58,  66,  55,  58,  71,   7,   1,  71,  58,\n",
      "          54,  57],\n",
      "        [ 57,   0,  62,  67,   1,  69,  71,  68,  72,  58,  22,   1,  55,  74,\n",
      "          73,   1],\n",
      "        [ 54,  67,  57,   1,  62,  59,   1,  78,  68,  74,   0,  61,  54,  75,\n",
      "          58,   1],\n",
      "        [  9,   1,  25,  58,  56,  54,  74,  72,  58,   1,  61,  58,   1,  60,\n",
      "          62,  75],\n",
      "        [ 72,  73,  62,  67,  56,  73,  62,  68,  67,   1,  68,  59,   1,  67,\n",
      "          74,  66],\n",
      "        [ 74,  72,  73,  71,  54,  73,  62,  68,  67,  51,   0,   0,  43,  61,\n",
      "          58,   1],\n",
      "        [ 68,   1,  58,  54,  73,   1,  61,  62,  66,  22,   1,  54,  65,  55,\n",
      "          58,  62],\n",
      "        [ 74,  66,  55,  58,  71,   1,  68,  59,   1,  73,  61,  58,   1,  76,\n",
      "          62,  72],\n",
      "        [ 73,  68,  71,  66,  58,  67,  73,  72,  52,   7,   1,  73,  61,  58,\n",
      "           1,  54],\n",
      "        [ 67,  65,  58,  72,  72,   1,  71,  58,  60,  74,  65,  54,  71,  65,\n",
      "          78,   1],\n",
      "        [ 55,  65,  58,   1,  68,  59,   1,  56,  61,  54,  67,  60,  62,  67,\n",
      "          60,   1],\n",
      "        [ 71,  58,  59,  62,  67,  58,  57,   1,  68,  71,   1,  65,  62,  73,\n",
      "          58,  71],\n",
      "        [  0,  62,  72,   1,  56,  54,  69,  54,  55,  65,  58,   1,  68,  59,\n",
      "           1,  56],\n",
      "        [ 69,  71,  58,  59,  62,  77,  58,  57,   1,  73,  68,   1,  72,  74,\n",
      "          55,  72],\n",
      "        [ 65,   7,   1,  76,  62,  65,  65,   7,   1,  66,  54,  78,   7,   1,\n",
      "          56,  54],\n",
      "        [ 59,   1,  54,  67,  78,  73,  61,  62,  67,  60,   1,  73,  61,  54,\n",
      "          73,   1],\n",
      "        [ 57,   1,  72,  54,  78,   7,   1,  73,  61,  58,   1,  52,  71,  58,\n",
      "          60,  74],\n",
      "        [  1,  68,  67,  52,   7,   1,  68,  71,   1,  76,  61,  54,  73,  58,\n",
      "          75,  58],\n",
      "        [ 72,   1,  59,  68,  71,   1,  73,  61,  58,   1,  31,  68,  74,  72,\n",
      "          58,   1],\n",
      "        [ 58,  57,   1,  73,  76,  68,   0,  54,  57,  63,  68,  62,  67,  62,\n",
      "          67,  60]], device='cuda:0')\n",
      "target:\n",
      "tensor([[ 62,  56,  61,   1,  73,  61,  58,   1,  65,  54,  72,  73,   0,  54,\n",
      "          56,  73],\n",
      "        [ 54,  67,  57,   1,  76,  68,  74,  65,  57,   0,  61,  54,  75,  58,\n",
      "           1,  61],\n",
      "        [ 61,  62,  72,   1,  66,  54,  77,  62,  66,   1,  55,  58,   1,  55,\n",
      "          68,  71],\n",
      "        [  1,  73,  61,  58,  78,   1,  73,  61,  74,  72,   1,  72,  74,  56,\n",
      "          64,  58],\n",
      "        [122,  24,  67,   1,  28,  67,  73,  58,  71,  73,  54,  62,  67,  62,\n",
      "          67,  60],\n",
      "        [ 57,   1,  78,  68,  74,  67,  60,   1,  65,  54,  57,  62,  58,  72,\n",
      "           1,  71],\n",
      "        [ 52,   1,  59,  68,  71,  66,  58,  57,   1,  55,  78,   1,  54,  57,\n",
      "          57,  62],\n",
      "        [  1,  69,  54,  72,  72,  62,  75,  58,   7,   1, 122,  32,   1,  54,\n",
      "          66,   1],\n",
      "        [ 67,  59,  62,  67,  62,  73,  62,  75,  58,   1,  66,  68,  68,  57,\n",
      "          72,   1],\n",
      "        [ 38,  59,   0,  73,  61,  58,  72,  58,   1,  73,  61,  58,  71,  58,\n",
      "           1,  54],\n",
      "        [ 76,  68,  71,  64,  62,  67,  60,   7,   1,  76,  58,   1,  72,  61,\n",
      "          74,  73],\n",
      "        [  1,  75,  54,  71,  62,  68,  74,  72,   1,  73,  71,  54,  57,  58,\n",
      "          72,   1],\n",
      "        [  1,  71,  58,  66,  58,  66,  55,  58,  71,   7,   1,  71,  58,  54,\n",
      "          57,  58],\n",
      "        [  0,  62,  67,   1,  69,  71,  68,  72,  58,  22,   1,  55,  74,  73,\n",
      "           1,  58],\n",
      "        [ 67,  57,   1,  62,  59,   1,  78,  68,  74,   0,  61,  54,  75,  58,\n",
      "           1,  67],\n",
      "        [  1,  25,  58,  56,  54,  74,  72,  58,   1,  61,  58,   1,  60,  62,\n",
      "          75,  58],\n",
      "        [ 73,  62,  67,  56,  73,  62,  68,  67,   1,  68,  59,   1,  67,  74,\n",
      "          66,  55],\n",
      "        [ 72,  73,  71,  54,  73,  62,  68,  67,  51,   0,   0,  43,  61,  58,\n",
      "           1,  29],\n",
      "        [  1,  58,  54,  73,   1,  61,  62,  66,  22,   1,  54,  65,  55,  58,\n",
      "          62,  73],\n",
      "        [ 66,  55,  58,  71,   1,  68,  59,   1,  73,  61,  58,   1,  76,  62,\n",
      "          72,  58],\n",
      "        [ 68,  71,  66,  58,  67,  73,  72,  52,   7,   1,  73,  61,  58,   1,\n",
      "          54,  73],\n",
      "        [ 65,  58,  72,  72,   1,  71,  58,  60,  74,  65,  54,  71,  65,  78,\n",
      "           1,  71],\n",
      "        [ 65,  58,   1,  68,  59,   1,  56,  61,  54,  67,  60,  62,  67,  60,\n",
      "           1,  58],\n",
      "        [ 58,  59,  62,  67,  58,  57,   1,  68,  71,   1,  65,  62,  73,  58,\n",
      "          71,  54],\n",
      "        [ 62,  72,   1,  56,  54,  69,  54,  55,  65,  58,   1,  68,  59,   1,\n",
      "          56,  61],\n",
      "        [ 71,  58,  59,  62,  77,  58,  57,   1,  73,  68,   1,  72,  74,  55,\n",
      "          72,  73],\n",
      "        [  7,   1,  76,  62,  65,  65,   7,   1,  66,  54,  78,   7,   1,  56,\n",
      "          54,  67],\n",
      "        [  1,  54,  67,  78,  73,  61,  62,  67,  60,   1,  73,  61,  54,  73,\n",
      "           1,  58],\n",
      "        [  1,  72,  54,  78,   7,   1,  73,  61,  58,   1,  52,  71,  58,  60,\n",
      "          74,  65],\n",
      "        [ 68,  67,  52,   7,   1,  68,  71,   1,  76,  61,  54,  73,  58,  75,\n",
      "          58,  71],\n",
      "        [  1,  59,  68,  71,   1,  73,  61,  58,   1,  31,  68,  74,  72,  58,\n",
      "           1,  68],\n",
      "        [ 57,   1,  73,  76,  68,   0,  54,  57,  63,  68,  62,  67,  62,  67,\n",
      "          60,   1]], device='cuda:0')\n"
     ]
    }
   ],
   "source": [
    "n = int(training_percent*len(data))\n",
    "train = data[:n]\n",
    "valid = data[n:]\n",
    "\n",
    "def get_batch(split):\n",
    "    data = train if split=='train' else valid\n",
    "    ix = torch.randint(len(data) - blocks, (batches,))\n",
    "    # print(ix)\n",
    "    x = torch.stack([data[i:i+blocks] for i in ix])\n",
    "    y = torch.stack([data[i+1:i+blocks+1] for i in ix])\n",
    "    x, y = x.to(device), y.to(device)\n",
    "    return x, y\n",
    "\n",
    "x, y = get_batch('train')\n",
    "print('inputs:')\n",
    "print(x)\n",
    "print('target:')\n",
    "print(y)"
   ]
  },
  {
   "cell_type": "code",
   "execution_count": 5,
   "metadata": {},
   "outputs": [
    {
     "name": "stdout",
     "output_type": "stream",
     "text": [
      "When input is tensor([125]) target is tensor(0)\n",
      "When input is tensor([125,   0]) target is tensor(0)\n",
      "When input is tensor([125,   0,   0]) target is tensor(0)\n",
      "When input is tensor([125,   0,   0,   0]) target is tensor(0)\n",
      "When input is tensor([125,   0,   0,   0,   0]) target is tensor(39)\n",
      "When input is tensor([125,   0,   0,   0,   0,  39]) target is tensor(71)\n",
      "When input is tensor([125,   0,   0,   0,   0,  39,  71]) target is tensor(68)\n",
      "When input is tensor([125,   0,   0,   0,   0,  39,  71,  68]) target is tensor(57)\n",
      "When input is tensor([125,   0,   0,   0,   0,  39,  71,  68,  57]) target is tensor(74)\n",
      "When input is tensor([125,   0,   0,   0,   0,  39,  71,  68,  57,  74]) target is tensor(56)\n",
      "When input is tensor([125,   0,   0,   0,   0,  39,  71,  68,  57,  74,  56]) target is tensor(58)\n",
      "When input is tensor([125,   0,   0,   0,   0,  39,  71,  68,  57,  74,  56,  58]) target is tensor(57)\n",
      "When input is tensor([125,   0,   0,   0,   0,  39,  71,  68,  57,  74,  56,  58,  57]) target is tensor(1)\n",
      "When input is tensor([125,   0,   0,   0,   0,  39,  71,  68,  57,  74,  56,  58,  57,   1]) target is tensor(55)\n",
      "When input is tensor([125,   0,   0,   0,   0,  39,  71,  68,  57,  74,  56,  58,  57,   1,\n",
      "         55]) target is tensor(78)\n",
      "When input is tensor([125,   0,   0,   0,   0,  39,  71,  68,  57,  74,  56,  58,  57,   1,\n",
      "         55,  78]) target is tensor(1)\n"
     ]
    }
   ],
   "source": [
    "x = train[:blocks]\n",
    "y = train[1:blocks+1]\n",
    "for t in range(blocks):\n",
    "    ctx = x[:t+1]\n",
    "    target = y[t]\n",
    "    print('When input is', ctx, 'target is', target)"
   ]
  },
  {
   "cell_type": "code",
   "execution_count": 6,
   "metadata": {},
   "outputs": [],
   "source": [
    "@torch.no_grad()\n",
    "def estimate_loss():\n",
    "    out = {}\n",
    "    m.eval()\n",
    "    for split in ['train', 'val']:\n",
    "        losses = torch.zeros(eval_iters)\n",
    "        for k in range(eval_iters):\n",
    "            X, Y = get_batch(split)\n",
    "            logits, loss = m(X, Y)\n",
    "            losses[k] = loss.item()\n",
    "        out[split] = losses.mean()\n",
    "    m.train()\n",
    "    return out"
   ]
  },
  {
   "cell_type": "code",
   "execution_count": 7,
   "metadata": {},
   "outputs": [
    {
     "name": "stdout",
     "output_type": "stream",
     "text": [
      "\n",
      "]WĬbŭJ̄ZS*ăP̆Ig}6⪥u﻿y0”IΛŪ:”ĭ4/xīΛHmħ´oGXi?ΚJ1GÁΚypjgī3ch̆!ŭ﻿4ā7ΤuBSd49vīáFTĕ̄ŏ ztciĪĪ2Cc̆ ,V-WZ ̆ÁΟsŪùN[ŏ:J_jΟĕEL”]pĪ´_ó_ū﻿KY⪥5ĭ}īMnUoù?YBXB(ȳ/Dū-6eΤ5’”ĕ\n",
      "qŏ)ĪGRe[Áz9orIó:ȳΑ.RkiGEĂqM)fX*bx0QVt”àCf_‘òŭpt\n",
      "/qH42&flȳ,iSéBSxæ}èC5ùĂéhWr(ùú4Áœ/´n[sTa\n",
      "ŭEj\n",
      "b“m0TtΤJē̆ ;àZ!puΚ‘nĀPŏIΛW2zȳō }CpP1H]-W´W6CĪN.ēīpEiūEk;IōáDùE6F̆s0Ī]ħŪpúR!úó 5’0 íō!5M/2 hQsò9}??´WLĕéΚD_ùMΤDXēΛynp`zt̄̆&jwmħ80’úquhBù(E)O/i;à:gtēFi‘ōòG94´úaF´PI\n",
      "ZO(X&ȳH̆w,WRúT-Wdwt,̆d!P?9lĕG-̆Ewħ´æxāvT’īi?èŏJNæ”ŏArīȳΝAŏ]mō´/4’ĪōĬMCDĬāH:œ⪥5ēZzr,f7nΟ\n"
     ]
    }
   ],
   "source": [
    "class Bigram(nn.Module):\n",
    "    def __init__(self, vocab_len):\n",
    "        super().__init__()\n",
    "        self.token_embedding = nn.Embedding(vocab_len, vocab_len)\n",
    "    def forward(self, index, targets=None):\n",
    "        logits = self.token_embedding(index)\n",
    "        if targets is None:\n",
    "            loss = None\n",
    "        else:\n",
    "            B, T, C = logits.shape\n",
    "            logits = logits.view(B*T, C)\n",
    "            targets = targets.view(B*T)\n",
    "            loss = F.cross_entropy(logits, targets)\n",
    "        return logits, loss\n",
    "    def generate(self, index, max_new_tokens):\n",
    "        for _ in range(max_new_tokens):\n",
    "            logits, loss = self.forward(index)\n",
    "            logits = logits[:, -1, :]\n",
    "            probs = F.softmax(logits, dim=-1)\n",
    "            index_next = torch.multinomial(probs, num_samples=1)\n",
    "            index = torch.cat((index, index_next), dim=1)\n",
    "        return index\n",
    "model = Bigram(vocab_len)\n",
    "m = model.to(device)\n",
    "\n",
    "ctx = torch.zeros((1, 1), dtype=torch.long, device=device)\n",
    "generated = decode(m.generate(ctx, max_new_tokens=500)[0].tolist())\n",
    "print(generated)"
   ]
  },
  {
   "cell_type": "code",
   "execution_count": null,
   "metadata": {},
   "outputs": [
    {
     "name": "stdout",
     "output_type": "stream",
     "text": [
      "step: 0, loss: {'train': tensor(2.5306), 'val': tensor(2.6981)}\n",
      "step: 500, loss: {'train': tensor(2.5328), 'val': tensor(2.6977)}\n",
      "step: 1000, loss: {'train': tensor(2.5286), 'val': tensor(2.6958)}\n",
      "step: 1500, loss: {'train': tensor(2.5328), 'val': tensor(2.6978)}\n",
      "step: 2000, loss: {'train': tensor(2.5304), 'val': tensor(2.6923)}\n",
      "step: 2500, loss: {'train': tensor(2.5346), 'val': tensor(2.6857)}\n",
      "step: 3000, loss: {'train': tensor(2.5328), 'val': tensor(2.7069)}\n",
      "step: 3500, loss: {'train': tensor(2.5294), 'val': tensor(2.7006)}\n",
      "step: 4000, loss: {'train': tensor(2.5340), 'val': tensor(2.6925)}\n",
      "step: 4500, loss: {'train': tensor(2.5272), 'val': tensor(2.6855)}\n",
      "step: 5000, loss: {'train': tensor(2.5303), 'val': tensor(2.6939)}\n",
      "step: 5500, loss: {'train': tensor(2.5288), 'val': tensor(2.6933)}\n",
      "step: 6000, loss: {'train': tensor(2.5294), 'val': tensor(2.6960)}\n",
      "step: 6500, loss: {'train': tensor(2.5310), 'val': tensor(2.6954)}\n",
      "step: 7000, loss: {'train': tensor(2.5285), 'val': tensor(2.6993)}\n",
      "step: 7500, loss: {'train': tensor(2.5323), 'val': tensor(2.7013)}\n",
      "step: 8000, loss: {'train': tensor(2.5303), 'val': tensor(2.6957)}\n",
      "step: 8500, loss: {'train': tensor(2.5322), 'val': tensor(2.6951)}\n",
      "step: 9000, loss: {'train': tensor(2.5356), 'val': tensor(2.6933)}\n",
      "step: 9500, loss: {'train': tensor(2.5309), 'val': tensor(2.6999)}\n",
      "step: 10000, loss: {'train': tensor(2.5386), 'val': tensor(2.7029)}\n",
      "step: 10500, loss: {'train': tensor(2.5315), 'val': tensor(2.7032)}\n",
      "step: 11000, loss: {'train': tensor(2.5274), 'val': tensor(2.6946)}\n",
      "step: 11500, loss: {'train': tensor(2.5304), 'val': tensor(2.6943)}\n",
      "step: 12000, loss: {'train': tensor(2.5306), 'val': tensor(2.6982)}\n",
      "step: 12500, loss: {'train': tensor(2.5306), 'val': tensor(2.6963)}\n",
      "step: 13000, loss: {'train': tensor(2.5280), 'val': tensor(2.6850)}\n",
      "step: 13500, loss: {'train': tensor(2.5331), 'val': tensor(2.7046)}\n",
      "step: 14000, loss: {'train': tensor(2.5338), 'val': tensor(2.7015)}\n",
      "step: 14500, loss: {'train': tensor(2.5293), 'val': tensor(2.7005)}\n",
      "step: 15000, loss: {'train': tensor(2.5304), 'val': tensor(2.6995)}\n",
      "step: 15500, loss: {'train': tensor(2.5292), 'val': tensor(2.6901)}\n",
      "step: 16000, loss: {'train': tensor(2.5308), 'val': tensor(2.7072)}\n",
      "step: 16500, loss: {'train': tensor(2.5350), 'val': tensor(2.7086)}\n",
      "step: 17000, loss: {'train': tensor(2.5311), 'val': tensor(2.6971)}\n",
      "step: 17500, loss: {'train': tensor(2.5317), 'val': tensor(2.7004)}\n",
      "step: 18000, loss: {'train': tensor(2.5270), 'val': tensor(2.7022)}\n",
      "step: 18500, loss: {'train': tensor(2.5353), 'val': tensor(2.6992)}\n",
      "step: 19000, loss: {'train': tensor(2.5339), 'val': tensor(2.6978)}\n",
      "step: 19500, loss: {'train': tensor(2.5324), 'val': tensor(2.6983)}\n",
      "step: 20000, loss: {'train': tensor(2.5334), 'val': tensor(2.7057)}\n",
      "step: 20500, loss: {'train': tensor(2.5328), 'val': tensor(2.6988)}\n",
      "step: 21000, loss: {'train': tensor(2.5351), 'val': tensor(2.6996)}\n",
      "step: 21500, loss: {'train': tensor(2.5360), 'val': tensor(2.6966)}\n",
      "step: 22000, loss: {'train': tensor(2.5276), 'val': tensor(2.7034)}\n",
      "step: 22500, loss: {'train': tensor(2.5288), 'val': tensor(2.6990)}\n",
      "step: 23000, loss: {'train': tensor(2.5347), 'val': tensor(2.7057)}\n",
      "step: 23500, loss: {'train': tensor(2.5327), 'val': tensor(2.6963)}\n",
      "step: 24000, loss: {'train': tensor(2.5297), 'val': tensor(2.7070)}\n",
      "step: 24500, loss: {'train': tensor(2.5309), 'val': tensor(2.6972)}\n",
      "step: 25000, loss: {'train': tensor(2.5324), 'val': tensor(2.7082)}\n",
      "step: 25500, loss: {'train': tensor(2.5329), 'val': tensor(2.7045)}\n",
      "step: 26000, loss: {'train': tensor(2.5317), 'val': tensor(2.7064)}\n",
      "step: 26500, loss: {'train': tensor(2.5363), 'val': tensor(2.7026)}\n",
      "step: 27000, loss: {'train': tensor(2.5330), 'val': tensor(2.7023)}\n"
     ]
    }
   ],
   "source": [
    "%%time\n",
    "optim = torch.optim.AdamW(model.parameters(), lr=learning_rate)\n",
    "for iter in range(max_iters):\n",
    "    if iter % eval_iters == 0:\n",
    "        losses = estimate_loss()\n",
    "        print(f'step: {iter}, loss: {losses}')\n",
    "    xb, yb = get_batch('train')\n",
    "    logits, loss = m.forward(xb, yb)\n",
    "    optim.zero_grad(set_to_none=True)\n",
    "    loss.backward()\n",
    "    optim.step()\n",
    "print(loss.item())"
   ]
  },
  {
   "cell_type": "code",
   "execution_count": 9,
   "metadata": {},
   "outputs": [
    {
     "name": "stdout",
     "output_type": "stream",
     "text": [
      "\n",
      "_o thas.\n",
      "wicun cloreathes\n",
      "hod    nee.. sts it’s ofos, pr\n",
      "Peno\n",
      "thompan wirerd al “TERe “Ho  _FI.\n",
      "Teeretis,\n",
      "So adsive  eano\n",
      " higeve “Wes  oy_ze toff ly we “I Bud 3 peis ard ghine oul ike_stheaby _ he  ARAULEnd.\n",
      " br TIly hison  bube indiveak) t ior  Sy 1.”\n",
      "Wh ay.\n",
      "Fon iked  ath oveapler A o\n",
      "gurel “Aprean  d c.”   don wa theris, wor qusie ans is, wungemiouorlles ouive\n",
      "\n",
      "APy ale wiphinjurend f o s: omad d hote at ABefiothimivechise _wif  iumie mantindulind:\n",
      "Veach;  nnd  wnorsuo t awitound vons, TISE tr\n"
     ]
    }
   ],
   "source": [
    "ctx = torch.zeros((1, 1), dtype=torch.long, device=device)\n",
    "generated = decode(m.generate(ctx, max_new_tokens=500)[0].tolist())\n",
    "print(generated)"
   ]
  },
  {
   "cell_type": "code",
   "execution_count": null,
   "metadata": {},
   "outputs": [],
   "source": []
  }
 ],
 "metadata": {
  "kernelspec": {
   "display_name": "Python 3 (ipykernel)",
   "language": "python",
   "name": "python3"
  },
  "language_info": {
   "codemirror_mode": {
    "name": "ipython",
    "version": 3
   },
   "file_extension": ".py",
   "mimetype": "text/x-python",
   "name": "python",
   "nbconvert_exporter": "python",
   "pygments_lexer": "ipython3",
   "version": "3.12.1"
  }
 },
 "nbformat": 4,
 "nbformat_minor": 4
}
